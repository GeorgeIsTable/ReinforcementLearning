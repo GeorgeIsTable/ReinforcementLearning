{
 "cells": [
  {
   "cell_type": "code",
   "execution_count": 7,
   "id": "33b46b6b",
   "metadata": {},
   "outputs": [],
   "source": [
    "from utilities import HedgingEnv_Continuous, episodes_50_return_continuous, bs_call, delta, HedgingEnv_Discrete, episodes_50_return_discrete\n",
    "\n",
    "import numpy as np\n",
    "from scipy.stats import norm\n",
    "import pandas as pd\n",
    "import matplotlib.pyplot as plt\n",
    "import random\n",
    "import pickle\n",
    "import torch"
   ]
  },
  {
   "cell_type": "code",
   "execution_count": 2,
   "id": "5036e351",
   "metadata": {},
   "outputs": [],
   "source": [
    "'''setting random seed'''\n",
    "random.seed(24)"
   ]
  },
  {
   "cell_type": "markdown",
   "id": "08d78709",
   "metadata": {},
   "source": [
    "1. Traning for Dueling DQN"
   ]
  },
  {
   "cell_type": "code",
   "execution_count": 3,
   "id": "94098b42",
   "metadata": {},
   "outputs": [],
   "source": [
    "''' import ddgn agent'''\n",
    "from duelDQN import DDQN_Agent\n",
    "ddqn_agent = DDQN_Agent(state_dims = 2, action_dims = 101, lr = 0.0005, tau = 0.001)"
   ]
  },
  {
   "cell_type": "code",
   "execution_count": 4,
   "id": "15ace7bc",
   "metadata": {},
   "outputs": [],
   "source": [
    "\n",
    "S = 50\n",
    "K = 50\n",
    "T = 12/50 \n",
    "sigma = 0.1\n",
    "rf = 0"
   ]
  },
  {
   "cell_type": "code",
   "execution_count": 5,
   "id": "5457f174",
   "metadata": {},
   "outputs": [
    {
     "name": "stdout",
     "output_type": "stream",
     "text": [
      "episode  0 score -1.73   delta atm 0.3500  trail 50 games avergae -2.25 \n",
      "... saving best models ...\n",
      "episode  100 score -1.74   delta atm 0.4700  trail 50 games avergae -1.60 \n",
      "... saving best models ...\n",
      "episode  200 score -2.83   delta atm 0.5900  trail 50 games avergae -1.89 \n",
      "episode  300 score -2.22   delta atm 0.6800  trail 50 games avergae -2.50 \n",
      "episode  400 score -3.10   delta atm 0.2700  trail 50 games avergae -1.76 \n",
      "episode  500 score -2.08   delta atm 0.9900  trail 50 games avergae -3.10 \n",
      "episode  600 score -0.88   delta atm 0.4700  trail 50 games avergae -1.88 \n",
      "episode  700 score -0.61   delta atm 0.1900  trail 50 games avergae -2.20 \n",
      "episode  800 score -3.19   delta atm 0.5700  trail 50 games avergae -1.86 \n",
      "episode  900 score -3.11   delta atm 0.4300  trail 50 games avergae -2.11 \n",
      "episode  1000 score -2.02   delta atm 0.3700  trail 50 games avergae -2.05 \n",
      "episode  1100 score -4.18   delta atm 0.8900  trail 50 games avergae -2.73 \n",
      "episode  1200 score -1.75   delta atm 0.2700  trail 50 games avergae -1.96 \n",
      "episode  1300 score -2.03   delta atm 0.1300  trail 50 games avergae -2.75 \n",
      "episode  1400 score -2.93   delta atm 0.6900  trail 50 games avergae -2.02 \n",
      "episode  1500 score -1.10   delta atm 0.4700  trail 50 games avergae -1.71 \n",
      "episode  1600 score -1.32   delta atm 0.4000  trail 50 games avergae -1.65 \n",
      "episode  1700 score -1.07   delta atm 0.1600  trail 50 games avergae -3.07 \n",
      "episode  1800 score -3.84   delta atm 0.2100  trail 50 games avergae -2.00 \n",
      "episode  1900 score -3.10   delta atm 0.3600  trail 50 games avergae -1.83 \n",
      "episode  2000 score -1.35   delta atm 0.7500  trail 50 games avergae -2.34 \n",
      "episode  2100 score -1.27   delta atm 0.7800  trail 50 games avergae -2.25 \n",
      "episode  2200 score -2.48   delta atm 0.4700  trail 50 games avergae -1.90 \n",
      "episode  2300 score -1.89   delta atm 0.4400  trail 50 games avergae -1.65 \n",
      "episode  2400 score -2.61   delta atm 0.5400  trail 50 games avergae -1.42 \n",
      "... saving best models ...\n",
      "episode  2500 score -2.42   delta atm 0.8400  trail 50 games avergae -2.31 \n",
      "episode  2600 score -1.65   delta atm 0.6500  trail 50 games avergae -1.94 \n",
      "episode  2700 score -4.69   delta atm 0.8300  trail 50 games avergae -2.05 \n",
      "episode  2800 score -1.34   delta atm 0.5200  trail 50 games avergae -1.44 \n",
      "episode  2900 score -1.65   delta atm 0.4900  trail 50 games avergae -1.33 \n",
      "... saving best models ...\n",
      "episode  3000 score -1.34   delta atm 0.9700  trail 50 games avergae -2.05 \n",
      "episode  3100 score -2.03   delta atm 0.5700  trail 50 games avergae -1.60 \n",
      "episode  3200 score -1.09   delta atm 0.9500  trail 50 games avergae -1.74 \n",
      "episode  3300 score -1.11   delta atm 0.7100  trail 50 games avergae -1.82 \n",
      "episode  3400 score -2.81   delta atm 0.6700  trail 50 games avergae -1.44 \n",
      "episode  3500 score -1.07   delta atm 0.5600  trail 50 games avergae -1.43 \n",
      "episode  3600 score -1.44   delta atm 0.4500  trail 50 games avergae -0.97 \n",
      "... saving best models ...\n",
      "episode  3700 score -1.84   delta atm 0.3100  trail 50 games avergae -1.06 \n",
      "episode  3800 score -1.12   delta atm 0.4600  trail 50 games avergae -1.93 \n",
      "episode  3900 score -1.17   delta atm 0.6600  trail 50 games avergae -1.28 \n",
      "episode  4000 score -0.77   delta atm 0.5400  trail 50 games avergae -1.04 \n",
      "episode  4100 score -0.95   delta atm 0.7300  trail 50 games avergae -1.33 \n",
      "episode  4200 score -1.08   delta atm 0.5300  trail 50 games avergae -1.05 \n",
      "episode  4300 score -1.14   delta atm 0.3200  trail 50 games avergae -1.16 \n",
      "episode  4400 score -0.99   delta atm 0.6500  trail 50 games avergae -0.88 \n",
      "... saving best models ...\n",
      "episode  4500 score -0.78   delta atm 0.6200  trail 50 games avergae -1.03 \n",
      "episode  4600 score -0.89   delta atm 0.6100  trail 50 games avergae -0.87 \n",
      "... saving best models ...\n",
      "episode  4700 score -0.84   delta atm 0.5800  trail 50 games avergae -1.00 \n",
      "episode  4800 score -1.59   delta atm 0.4500  trail 50 games avergae -0.82 \n",
      "... saving best models ...\n",
      "episode  4900 score -0.95   delta atm 0.4000  trail 50 games avergae -1.25 \n",
      "episode  5000 score -1.37   delta atm 0.4400  trail 50 games avergae -0.79 \n",
      "... saving best models ...\n",
      "episode  5100 score -2.15   delta atm 0.5300  trail 50 games avergae -1.02 \n",
      "episode  5200 score -1.81   delta atm 0.6000  trail 50 games avergae -0.91 \n",
      "episode  5300 score -0.73   delta atm 0.4600  trail 50 games avergae -0.75 \n",
      "... saving best models ...\n",
      "episode  5400 score -0.67   delta atm 0.6300  trail 50 games avergae -0.91 \n",
      "episode  5500 score -0.62   delta atm 0.5900  trail 50 games avergae -1.11 \n",
      "episode  5600 score -0.68   delta atm 0.5400  trail 50 games avergae -0.95 \n",
      "episode  5700 score -1.26   delta atm 0.5500  trail 50 games avergae -0.77 \n",
      "episode  5800 score -0.62   delta atm 0.5100  trail 50 games avergae -0.71 \n",
      "... saving best models ...\n",
      "episode  5900 score -0.72   delta atm 0.5300  trail 50 games avergae -0.84 \n",
      "episode  6000 score -0.57   delta atm 0.4200  trail 50 games avergae -0.84 \n",
      "episode  6100 score -0.77   delta atm 0.4500  trail 50 games avergae -0.76 \n",
      "episode  6200 score -0.46   delta atm 0.3600  trail 50 games avergae -0.87 \n",
      "episode  6300 score -0.53   delta atm 0.4500  trail 50 games avergae -0.74 \n",
      "episode  6400 score -0.94   delta atm 0.5400  trail 50 games avergae -0.74 \n",
      "episode  6500 score -0.96   delta atm 0.5100  trail 50 games avergae -0.70 \n",
      "... saving best models ...\n",
      "episode  6600 score -0.75   delta atm 0.5100  trail 50 games avergae -0.76 \n",
      "episode  6700 score -0.44   delta atm 0.5500  trail 50 games avergae -0.64 \n",
      "... saving best models ...\n",
      "episode  6800 score -0.66   delta atm 0.4500  trail 50 games avergae -0.68 \n",
      "episode  6900 score -1.36   delta atm 0.4000  trail 50 games avergae -0.77 \n",
      "episode  7000 score -0.57   delta atm 0.5500  trail 50 games avergae -0.74 \n",
      "episode  7100 score -0.78   delta atm 0.5800  trail 50 games avergae -0.66 \n",
      "episode  7200 score -0.79   delta atm 0.5100  trail 50 games avergae -0.82 \n",
      "episode  7300 score -1.06   delta atm 0.6000  trail 50 games avergae -0.72 \n",
      "episode  7400 score -0.36   delta atm 0.5800  trail 50 games avergae -0.71 \n",
      "episode  7500 score -1.09   delta atm 0.5100  trail 50 games avergae -0.62 \n",
      "... saving best models ...\n",
      "episode  7600 score -0.59   delta atm 0.4400  trail 50 games avergae -0.80 \n",
      "episode  7700 score -0.66   delta atm 0.5700  trail 50 games avergae -0.76 \n",
      "episode  7800 score -0.89   delta atm 0.3900  trail 50 games avergae -0.82 \n",
      "episode  7900 score -0.80   delta atm 0.4400  trail 50 games avergae -0.80 \n",
      "episode  8000 score -1.22   delta atm 0.5300  trail 50 games avergae -0.63 \n",
      "episode  8100 score -0.96   delta atm 0.4100  trail 50 games avergae -0.87 \n",
      "episode  8200 score -0.77   delta atm 0.5400  trail 50 games avergae -0.68 \n",
      "episode  8300 score -0.59   delta atm 0.5100  trail 50 games avergae -0.57 \n",
      "... saving best models ...\n",
      "episode  8400 score -0.40   delta atm 0.5100  trail 50 games avergae -0.66 \n",
      "episode  8500 score -0.85   delta atm 0.5500  trail 50 games avergae -0.66 \n",
      "episode  8600 score -1.24   delta atm 0.3300  trail 50 games avergae -0.83 \n",
      "episode  8700 score -0.46   delta atm 0.5200  trail 50 games avergae -0.66 \n",
      "episode  8800 score -0.72   delta atm 0.4400  trail 50 games avergae -0.66 \n",
      "episode  8900 score -0.64   delta atm 0.4500  trail 50 games avergae -0.78 \n",
      "episode  9000 score -0.56   delta atm 0.5200  trail 50 games avergae -0.88 \n",
      "episode  9100 score -0.61   delta atm 0.5400  trail 50 games avergae -0.69 \n",
      "episode  9200 score -0.97   delta atm 0.5000  trail 50 games avergae -0.60 \n",
      "episode  9300 score -0.43   delta atm 0.5800  trail 50 games avergae -0.62 \n",
      "episode  9400 score -1.42   delta atm 0.5200  trail 50 games avergae -0.67 \n",
      "episode  9500 score -0.66   delta atm 0.5000  trail 50 games avergae -0.75 \n",
      "episode  9600 score -0.60   delta atm 0.5300  trail 50 games avergae -0.58 \n",
      "episode  9700 score -0.79   delta atm 0.4000  trail 50 games avergae -0.80 \n",
      "episode  9800 score -0.86   delta atm 0.5000  trail 50 games avergae -0.59 \n",
      "episode  9900 score -0.57   delta atm 0.5700  trail 50 games avergae -0.73 \n",
      "episode  10000 score -0.51   delta atm 0.4500  trail 50 games avergae -0.75 \n",
      "episode  10100 score -1.18   delta atm 0.5200  trail 50 games avergae -0.62 \n",
      "episode  10200 score -0.40   delta atm 0.4900  trail 50 games avergae -0.69 \n"
     ]
    },
    {
     "name": "stdout",
     "output_type": "stream",
     "text": [
      "episode  10300 score -1.42   delta atm 0.5500  trail 50 games avergae -0.67 \n",
      "episode  10400 score -0.47   delta atm 0.5800  trail 50 games avergae -0.63 \n",
      "episode  10500 score -0.61   delta atm 0.5300  trail 50 games avergae -0.64 \n",
      "episode  10600 score -1.32   delta atm 0.5200  trail 50 games avergae -0.82 \n",
      "episode  10700 score -0.31   delta atm 0.5100  trail 50 games avergae -0.99 \n",
      "episode  10800 score -0.69   delta atm 0.5200  trail 50 games avergae -0.71 \n",
      "episode  10900 score -0.70   delta atm 0.5000  trail 50 games avergae -0.68 \n",
      "episode  11000 score -0.43   delta atm 0.5200  trail 50 games avergae -0.72 \n",
      "episode  11100 score -1.30   delta atm 0.4900  trail 50 games avergae -0.67 \n",
      "episode  11200 score -0.66   delta atm 0.5300  trail 50 games avergae -0.65 \n",
      "episode  11300 score -0.38   delta atm 0.5200  trail 50 games avergae -1.01 \n",
      "episode  11400 score -0.41   delta atm 0.5000  trail 50 games avergae -0.67 \n",
      "episode  11500 score -0.45   delta atm 0.5200  trail 50 games avergae -0.63 \n",
      "episode  11600 score -0.64   delta atm 0.5100  trail 50 games avergae -0.72 \n",
      "episode  11700 score -0.47   delta atm 0.4600  trail 50 games avergae -0.85 \n",
      "episode  11800 score -0.76   delta atm 0.5100  trail 50 games avergae -0.59 \n",
      "episode  11900 score -0.81   delta atm 0.5600  trail 50 games avergae -0.70 \n",
      "episode  12000 score -0.62   delta atm 0.4600  trail 50 games avergae -0.65 \n",
      "episode  12100 score -1.24   delta atm 0.4700  trail 50 games avergae -0.79 \n",
      "episode  12200 score -0.47   delta atm 0.5200  trail 50 games avergae -0.69 \n",
      "episode  12300 score -0.54   delta atm 0.5300  trail 50 games avergae -0.60 \n",
      "episode  12400 score -0.55   delta atm 0.5000  trail 50 games avergae -0.62 \n",
      "episode  12500 score -0.89   delta atm 0.4900  trail 50 games avergae -0.77 \n",
      "episode  12600 score -0.78   delta atm 0.5700  trail 50 games avergae -0.67 \n",
      "episode  12700 score -0.25   delta atm 0.4600  trail 50 games avergae -0.60 \n",
      "episode  12800 score -0.43   delta atm 0.5400  trail 50 games avergae -0.68 \n",
      "episode  12900 score -1.17   delta atm 0.5200  trail 50 games avergae -0.80 \n",
      "episode  13000 score -0.50   delta atm 0.4600  trail 50 games avergae -0.67 \n",
      "episode  13100 score -0.52   delta atm 0.4700  trail 50 games avergae -0.67 \n",
      "episode  13200 score -0.40   delta atm 0.4400  trail 50 games avergae -0.74 \n",
      "episode  13300 score -0.72   delta atm 0.5400  trail 50 games avergae -0.71 \n",
      "episode  13400 score -1.08   delta atm 0.5600  trail 50 games avergae -0.76 \n",
      "episode  13500 score -0.37   delta atm 0.5100  trail 50 games avergae -0.57 \n",
      "episode  13600 score -0.58   delta atm 0.4900  trail 50 games avergae -0.65 \n",
      "episode  13700 score -1.11   delta atm 0.5300  trail 50 games avergae -0.73 \n",
      "episode  13800 score -0.43   delta atm 0.5000  trail 50 games avergae -0.71 \n",
      "episode  13900 score -1.10   delta atm 0.4200  trail 50 games avergae -0.87 \n",
      "episode  14000 score -0.43   delta atm 0.4000  trail 50 games avergae -0.82 \n",
      "episode  14100 score -0.95   delta atm 0.5800  trail 50 games avergae -0.71 \n",
      "episode  14200 score -0.27   delta atm 0.6300  trail 50 games avergae -0.80 \n",
      "episode  14300 score -0.82   delta atm 0.5100  trail 50 games avergae -0.76 \n",
      "episode  14400 score -0.33   delta atm 0.5300  trail 50 games avergae -0.67 \n",
      "episode  14500 score -0.30   delta atm 0.4900  trail 50 games avergae -0.64 \n",
      "episode  14600 score -0.40   delta atm 0.4600  trail 50 games avergae -0.60 \n",
      "episode  14700 score -0.38   delta atm 0.5300  trail 50 games avergae -0.71 \n",
      "episode  14800 score -0.90   delta atm 0.4800  trail 50 games avergae -0.69 \n",
      "episode  14900 score -0.68   delta atm 0.4700  trail 50 games avergae -0.59 \n"
     ]
    }
   ],
   "source": [
    "trial_scores_ddqn = []\n",
    "best_trial_50 = -99999\n",
    "\n",
    "for i in range(15000):\n",
    "    env = HedgingEnv_Discrete(S, K, T, sigma, rf)\n",
    "    done = False\n",
    "    \n",
    "    \n",
    "    \n",
    "    score = 0\n",
    "    state = [S, T]\n",
    "    while not done:\n",
    "        action = ddqn_agent.choose_action(state)\n",
    "        next_state, reward, done = env.step(action)\n",
    "        ddqn_agent.store_transition(state, action, reward, next_state, int(done) )\n",
    "        ddqn_agent.learn()\n",
    "            #learn_iters += 1\n",
    "        score += reward\n",
    "        state = next_state\n",
    "    \n",
    "    if i % 100 == 0:\n",
    "        trial_50 = episodes_50_return_discrete(ddqn_agent, S, K, T, sigma, rf)\n",
    "        observation = [50, 12/50]\n",
    "        \n",
    "        print('episode ', i, 'score %.2f  ' % score,\n",
    "              'delta atm %.4f ' % float(ddqn_agent.final_action(observation)/100),\n",
    "              'trail 50 games avergae %.2f ' % trial_50)\n",
    "        \n",
    "        if trial_50 > best_trial_50:\n",
    "            best_trial_50 = trial_50\n",
    "            ddqn_agent.save_models()\n",
    "        \n",
    "        trial_scores_ddqn.append(trial_50)\n",
    "        if abs(trial_50) < 0.5:\n",
    "            print('Finish training!!')\n",
    "            break"
   ]
  },
  {
   "cell_type": "code",
   "execution_count": 8,
   "id": "449150f4",
   "metadata": {},
   "outputs": [],
   "source": [
    "''' save the final model and trial score records'''\n",
    "torch.save(ddqn_agent, r'./final_duelDQN_agent.pth')\n",
    "open_file = open('./trial_scores_duelDQN_100.pkl', \"wb\")\n",
    "pickle.dump(trial_scores_ddqn, open_file)\n",
    "open_file.close()"
   ]
  },
  {
   "cell_type": "code",
   "execution_count": 10,
   "id": "080af9dc",
   "metadata": {},
   "outputs": [
    {
     "data": {
      "text/plain": [
       "Text(0.5, 1.0, '50 episodes trial_reward vs episodes')"
      ]
     },
     "execution_count": 10,
     "metadata": {},
     "output_type": "execute_result"
    },
    {
     "data": {
      "image/png": "[encoded data removed]",
      "text/plain": [
       "<Figure size 432x288 with 1 Axes>"
      ]
     },
     "metadata": {
      "needs_background": "light"
     },
     "output_type": "display_data"
    }
   ],
   "source": [
    "plt.plot(trial_scores_ddqn)\n",
    "plt.title('50 episodes trial_reward vs episodes')\n"
   ]
  },
  {
   "cell_type": "code",
   "execution_count": 15,
   "id": "66c27d20",
   "metadata": {},
   "outputs": [
    {
     "name": "stdout",
     "output_type": "stream",
     "text": [
      "... loading best models ...\n"
     ]
    },
    {
     "data": {
      "text/plain": [
       "<matplotlib.legend.Legend at 0x22c95035670>"
      ]
     },
     "execution_count": 15,
     "metadata": {},
     "output_type": "execute_result"
    },
    {
     "data": {
      "image/png": "[encoded data removed]",
      "text/plain": [
       "<Figure size 432x288 with 1 Axes>"
      ]
     },
     "metadata": {
      "needs_background": "light"
     },
     "output_type": "display_data"
    }
   ],
   "source": [
    "'''load the best model and check the delta(hedging position)'''\n",
    "ddqn_agent.load_models()\n",
    "\n",
    "t_delta = []\n",
    "agent_delta = []\n",
    "for i in range(400, 600):\n",
    "    St = i/10\n",
    "    t_delta.append(delta(St, K, rf, sigma, T))\n",
    "    observation = [St,T]\n",
    "    agent_delta.append(ddqn_agent.final_action(observation)/100)\n",
    "plt.plot(t_delta, label = 'true delta')\n",
    "plt.plot(agent_delta, label = 'agent delta')\n",
    "plt.legend(loc='upper left')    "
   ]
  },
  {
   "cell_type": "markdown",
   "id": "1c0b0a42",
   "metadata": {},
   "source": [
    "2. Traning for DDPG"
   ]
  },
  {
   "cell_type": "code",
   "execution_count": 17,
   "id": "3de2f433",
   "metadata": {},
   "outputs": [],
   "source": [
    "from DDPG import DDPGAgent\n",
    "ddpg_agent = DDPGAgent(LR = 0.00025, theta = 0.00025, input_dims=[2], tau=0.001, gamma = 1, batch_size=64, fc1_dims=400, fc2_dims=300 )"
   ]
  },
  {
   "cell_type": "code",
   "execution_count": 18,
   "id": "660c9f46",
   "metadata": {},
   "outputs": [
    {
     "name": "stdout",
     "output_type": "stream",
     "text": [
      "episode  0 score -6.40 trail 50 games avergae -3.22\n",
      "... saving best models ...\n",
      "... saving checkpoint ...\n",
      "... saving checkpoint ...\n",
      "... saving checkpoint ...\n",
      "... saving checkpoint ...\n",
      "episode  100 score -2.12 trail 50 games avergae -1.70\n",
      "... saving best models ...\n",
      "... saving checkpoint ...\n",
      "... saving checkpoint ...\n",
      "... saving checkpoint ...\n",
      "... saving checkpoint ...\n",
      "episode  200 score -1.22 trail 50 games avergae -1.77\n",
      "episode  300 score -0.86 trail 50 games avergae -1.74\n",
      "episode  400 score -1.54 trail 50 games avergae -1.74\n",
      "episode  500 score -1.34 trail 50 games avergae -1.69\n",
      "... saving best models ...\n",
      "... saving checkpoint ...\n",
      "... saving checkpoint ...\n",
      "... saving checkpoint ...\n",
      "... saving checkpoint ...\n",
      "episode  600 score -0.96 trail 50 games avergae -1.68\n",
      "... saving best models ...\n",
      "... saving checkpoint ...\n",
      "... saving checkpoint ...\n",
      "... saving checkpoint ...\n",
      "... saving checkpoint ...\n",
      "episode  700 score -1.02 trail 50 games avergae -1.89\n",
      "episode  800 score -1.17 trail 50 games avergae -1.86\n",
      "episode  900 score -1.01 trail 50 games avergae -1.82\n",
      "episode  1000 score -1.69 trail 50 games avergae -1.84\n",
      "episode  1100 score -1.32 trail 50 games avergae -1.66\n",
      "... saving best models ...\n",
      "... saving checkpoint ...\n",
      "... saving checkpoint ...\n",
      "... saving checkpoint ...\n",
      "... saving checkpoint ...\n",
      "episode  1200 score -3.10 trail 50 games avergae -1.73\n",
      "episode  1300 score -1.41 trail 50 games avergae -1.76\n",
      "episode  1400 score -4.54 trail 50 games avergae -1.69\n",
      "episode  1500 score -1.01 trail 50 games avergae -1.60\n",
      "... saving best models ...\n",
      "... saving checkpoint ...\n",
      "... saving checkpoint ...\n",
      "... saving checkpoint ...\n",
      "... saving checkpoint ...\n",
      "episode  1600 score -1.22 trail 50 games avergae -1.91\n",
      "episode  1700 score -1.48 trail 50 games avergae -1.90\n",
      "episode  1800 score -1.54 trail 50 games avergae -1.87\n",
      "episode  1900 score -2.53 trail 50 games avergae -1.74\n",
      "episode  2000 score -2.39 trail 50 games avergae -1.79\n",
      "episode  2100 score -1.39 trail 50 games avergae -1.72\n",
      "episode  2200 score -1.55 trail 50 games avergae -1.60\n",
      "... saving best models ...\n",
      "... saving checkpoint ...\n",
      "... saving checkpoint ...\n",
      "... saving checkpoint ...\n",
      "... saving checkpoint ...\n",
      "episode  2300 score -1.66 trail 50 games avergae -1.66\n",
      "episode  2400 score -0.92 trail 50 games avergae -1.84\n",
      "episode  2500 score -0.99 trail 50 games avergae -1.77\n",
      "episode  2600 score -1.26 trail 50 games avergae -1.70\n",
      "episode  2700 score -0.91 trail 50 games avergae -1.63\n",
      "episode  2800 score -2.58 trail 50 games avergae -1.73\n",
      "episode  2900 score -1.52 trail 50 games avergae -1.75\n",
      "episode  3000 score -2.33 trail 50 games avergae -1.97\n",
      "episode  3100 score -2.01 trail 50 games avergae -1.60\n",
      "... saving best models ...\n",
      "... saving checkpoint ...\n",
      "... saving checkpoint ...\n",
      "... saving checkpoint ...\n",
      "... saving checkpoint ...\n",
      "episode  3200 score -1.13 trail 50 games avergae -1.31\n",
      "... saving best models ...\n",
      "... saving checkpoint ...\n",
      "... saving checkpoint ...\n",
      "... saving checkpoint ...\n",
      "... saving checkpoint ...\n",
      "episode  3300 score -1.61 trail 50 games avergae -0.74\n",
      "... saving best models ...\n",
      "... saving checkpoint ...\n",
      "... saving checkpoint ...\n",
      "... saving checkpoint ...\n",
      "... saving checkpoint ...\n",
      "episode  3400 score -1.37 trail 50 games avergae -0.79\n",
      "episode  3500 score -1.88 trail 50 games avergae -0.54\n",
      "... saving best models ...\n",
      "... saving checkpoint ...\n",
      "... saving checkpoint ...\n",
      "... saving checkpoint ...\n",
      "... saving checkpoint ...\n",
      "episode  3600 score -0.93 trail 50 games avergae -0.77\n",
      "episode  3700 score -1.55 trail 50 games avergae -1.72\n",
      "episode  3800 score -1.05 trail 50 games avergae -0.84\n",
      "episode  3900 score -4.04 trail 50 games avergae -1.02\n",
      "episode  4000 score -1.10 trail 50 games avergae -1.56\n",
      "episode  4100 score -1.49 trail 50 games avergae -1.92\n",
      "episode  4200 score -0.52 trail 50 games avergae -0.81\n",
      "episode  4300 score -1.23 trail 50 games avergae -0.94\n",
      "episode  4400 score -1.77 trail 50 games avergae -1.19\n",
      "episode  4500 score -0.43 trail 50 games avergae -1.88\n",
      "episode  4600 score -1.06 trail 50 games avergae -0.80\n",
      "episode  4700 score -2.62 trail 50 games avergae -0.77\n",
      "episode  4800 score -0.78 trail 50 games avergae -0.63\n",
      "episode  4900 score -0.75 trail 50 games avergae -1.23\n",
      "episode  5000 score -0.60 trail 50 games avergae -0.53\n",
      "... saving best models ...\n",
      "... saving checkpoint ...\n",
      "... saving checkpoint ...\n",
      "... saving checkpoint ...\n",
      "... saving checkpoint ...\n",
      "episode  5100 score -0.87 trail 50 games avergae -0.68\n",
      "episode  5200 score -2.03 trail 50 games avergae -1.06\n",
      "episode  5300 score -1.37 trail 50 games avergae -0.53\n",
      "episode  5400 score -2.76 trail 50 games avergae -0.61\n",
      "episode  5500 score -0.76 trail 50 games avergae -0.71\n",
      "episode  5600 score -0.86 trail 50 games avergae -0.61\n",
      "episode  5700 score -0.74 trail 50 games avergae -1.01\n",
      "episode  5800 score -1.16 trail 50 games avergae -0.83\n",
      "episode  5900 score -0.20 trail 50 games avergae -0.99\n",
      "episode  6000 score -0.82 trail 50 games avergae -0.64\n",
      "episode  6100 score -0.54 trail 50 games avergae -0.94\n",
      "episode  6200 score -1.23 trail 50 games avergae -0.58\n",
      "episode  6300 score -0.68 trail 50 games avergae -0.52\n",
      "... saving best models ...\n",
      "... saving checkpoint ...\n",
      "... saving checkpoint ...\n",
      "... saving checkpoint ...\n",
      "... saving checkpoint ...\n",
      "episode  6400 score -0.71 trail 50 games avergae -0.54\n",
      "episode  6500 score -1.25 trail 50 games avergae -0.59\n",
      "episode  6600 score -1.69 trail 50 games avergae -0.65\n",
      "episode  6700 score -0.79 trail 50 games avergae -0.53\n",
      "episode  6800 score -1.49 trail 50 games avergae -1.23\n",
      "episode  6900 score -0.41 trail 50 games avergae -0.90\n",
      "episode  7000 score -0.77 trail 50 games avergae -0.88\n",
      "episode  7100 score -0.78 trail 50 games avergae -0.71\n",
      "episode  7200 score -2.24 trail 50 games avergae -0.59\n",
      "episode  7300 score -1.05 trail 50 games avergae -0.60\n",
      "episode  7400 score -0.34 trail 50 games avergae -0.69\n",
      "episode  7500 score -0.60 trail 50 games avergae -0.62\n",
      "episode  7600 score -1.55 trail 50 games avergae -1.16\n",
      "episode  7700 score -1.81 trail 50 games avergae -0.59\n",
      "episode  7800 score -1.23 trail 50 games avergae -0.78\n",
      "episode  7900 score -0.84 trail 50 games avergae -0.62\n",
      "episode  8000 score -2.01 trail 50 games avergae -0.60\n",
      "episode  8100 score -1.16 trail 50 games avergae -0.66\n",
      "episode  8200 score -1.08 trail 50 games avergae -0.65\n",
      "episode  8300 score -0.90 trail 50 games avergae -0.61\n",
      "episode  8400 score -0.45 trail 50 games avergae -0.56\n",
      "episode  8500 score -0.30 trail 50 games avergae -0.66\n",
      "episode  8600 score -0.92 trail 50 games avergae -0.58\n",
      "episode  8700 score -0.65 trail 50 games avergae -0.55\n",
      "episode  8800 score -2.02 trail 50 games avergae -0.57\n",
      "episode  8900 score -1.69 trail 50 games avergae -0.57\n",
      "episode  9000 score -0.78 trail 50 games avergae -0.97\n",
      "episode  9100 score -0.41 trail 50 games avergae -1.20\n",
      "episode  9200 score -0.94 trail 50 games avergae -0.63\n",
      "episode  9300 score -2.39 trail 50 games avergae -0.67\n",
      "episode  9400 score -0.79 trail 50 games avergae -0.67\n",
      "episode  9500 score -0.74 trail 50 games avergae -0.56\n",
      "episode  9600 score -1.76 trail 50 games avergae -0.48\n",
      "... saving best models ...\n",
      "... saving checkpoint ...\n",
      "... saving checkpoint ...\n",
      "... saving checkpoint ...\n",
      "... saving checkpoint ...\n",
      "episode  9700 score -1.51 trail 50 games avergae -0.59\n",
      "episode  9800 score -0.60 trail 50 games avergae -0.57\n",
      "episode  9900 score -0.87 trail 50 games avergae -0.61\n",
      "episode  10000 score -1.92 trail 50 games avergae -0.57\n",
      "episode  10100 score -0.63 trail 50 games avergae -0.59\n",
      "episode  10200 score -1.45 trail 50 games avergae -0.59\n",
      "episode  10300 score -0.51 trail 50 games avergae -0.56\n",
      "episode  10400 score -0.84 trail 50 games avergae -0.63\n",
      "episode  10500 score -0.71 trail 50 games avergae -0.54\n",
      "episode  10600 score -0.50 trail 50 games avergae -0.46\n",
      "... saving best models ...\n",
      "... saving checkpoint ...\n",
      "... saving checkpoint ...\n",
      "... saving checkpoint ...\n",
      "... saving checkpoint ...\n",
      "episode  10700 score -0.66 trail 50 games avergae -0.60\n",
      "episode  10800 score -1.05 trail 50 games avergae -0.54\n",
      "episode  10900 score -1.46 trail 50 games avergae -0.61\n",
      "episode  11000 score -0.68 trail 50 games avergae -0.75\n",
      "episode  11100 score -0.97 trail 50 games avergae -0.69\n",
      "episode  11200 score -1.68 trail 50 games avergae -0.62\n",
      "episode  11300 score -0.18 trail 50 games avergae -0.61\n"
     ]
    },
    {
     "name": "stdout",
     "output_type": "stream",
     "text": [
      "episode  11400 score -1.11 trail 50 games avergae -0.80\n",
      "episode  11500 score -0.60 trail 50 games avergae -0.53\n",
      "episode  11600 score -1.67 trail 50 games avergae -0.52\n",
      "episode  11700 score -1.16 trail 50 games avergae -0.60\n",
      "episode  11800 score -0.44 trail 50 games avergae -0.55\n",
      "episode  11900 score -1.05 trail 50 games avergae -0.55\n",
      "episode  12000 score -1.54 trail 50 games avergae -0.58\n",
      "episode  12100 score -0.61 trail 50 games avergae -0.54\n",
      "episode  12200 score -0.71 trail 50 games avergae -0.57\n",
      "episode  12300 score -0.79 trail 50 games avergae -0.87\n",
      "episode  12400 score -2.93 trail 50 games avergae -0.59\n",
      "episode  12500 score -2.84 trail 50 games avergae -0.61\n",
      "episode  12600 score -0.75 trail 50 games avergae -0.52\n",
      "episode  12700 score -1.34 trail 50 games avergae -0.46\n",
      "episode  12800 score -0.97 trail 50 games avergae -0.54\n",
      "episode  12900 score -4.59 trail 50 games avergae -0.56\n",
      "episode  13000 score -0.40 trail 50 games avergae -0.51\n",
      "episode  13100 score -3.13 trail 50 games avergae -0.75\n",
      "episode  13200 score -0.77 trail 50 games avergae -0.91\n",
      "episode  13300 score -0.85 trail 50 games avergae -0.53\n",
      "episode  13400 score -1.71 trail 50 games avergae -0.55\n",
      "episode  13500 score -1.37 trail 50 games avergae -0.55\n",
      "episode  13600 score -0.51 trail 50 games avergae -0.52\n",
      "episode  13700 score -0.55 trail 50 games avergae -1.14\n",
      "episode  13800 score -0.94 trail 50 games avergae -0.57\n",
      "episode  13900 score -0.72 trail 50 games avergae -0.80\n",
      "episode  14000 score -0.69 trail 50 games avergae -0.55\n",
      "episode  14100 score -0.40 trail 50 games avergae -0.73\n",
      "episode  14200 score -1.05 trail 50 games avergae -0.57\n",
      "episode  14300 score -0.59 trail 50 games avergae -0.48\n",
      "episode  14400 score -0.66 trail 50 games avergae -0.54\n",
      "episode  14500 score -1.50 trail 50 games avergae -0.65\n",
      "episode  14600 score -1.33 trail 50 games avergae -0.59\n",
      "episode  14700 score -0.40 trail 50 games avergae -0.62\n",
      "episode  14800 score -1.19 trail 50 games avergae -0.48\n",
      "episode  14900 score -0.93 trail 50 games avergae -0.64\n"
     ]
    }
   ],
   "source": [
    "best_trial_50 = -9999\n",
    "\n",
    "trail_scores_ddpg = []\n",
    "for i in range(15000):\n",
    "    \n",
    "    env = HedgingEnv_Continuous(S, K, T, sigma, rf)\n",
    "    done = False\n",
    "    score = 0\n",
    "    state = [S, T]\n",
    "    while not done:\n",
    "        action = ddpg_agent.choose_action(state)\n",
    "        next_state, reward, done = env.step(action)\n",
    "        ddpg_agent.remember(state, action, reward, next_state, int(done))\n",
    "        ddpg_agent.learn()\n",
    "        score += reward\n",
    "        state = next_state\n",
    "    \n",
    "    #score_history.append(score)\n",
    "    if i % 100 == 0:\n",
    "        trial_50 = episodes_50_return_continuous(ddpg_agent, S, K, T, sigma, rf)\n",
    "        print('episode ', i, 'score %.2f' % score,\n",
    "              'trail 50 games avergae %.2f' % trial_50)\n",
    "        \n",
    "        if trial_50 > best_trial_50:\n",
    "            best_trial_50 = trial_50\n",
    "            ddpg_agent.save_models()\n",
    "        \n",
    "        trail_scores_ddpg.append(trial_50)\n",
    "        if abs(trial_50) < 0.45:\n",
    "            print('Finish training early!!')\n",
    "            break"
   ]
  },
  {
   "cell_type": "code",
   "execution_count": 20,
   "id": "10bcb1b6",
   "metadata": {},
   "outputs": [],
   "source": [
    "''' save the final model and trial score records'''\n",
    "torch.save(ddpg_agent, r'./final_ddpg_agent.pth')\n",
    "open_file = open('./trial_scores_ddpg_100.pkl', \"wb\")\n",
    "pickle.dump(trail_scores_ddpg, open_file)\n",
    "open_file.close()"
   ]
  },
  {
   "cell_type": "code",
   "execution_count": 23,
   "id": "9878e802",
   "metadata": {},
   "outputs": [
    {
     "name": "stdout",
     "output_type": "stream",
     "text": [
      "... loading best models ...\n",
      "... loading checkpoint ...\n",
      "... loading checkpoint ...\n",
      "... loading checkpoint ...\n",
      "... loading checkpoint ...\n"
     ]
    },
    {
     "data": {
      "text/plain": [
       "<matplotlib.legend.Legend at 0x22c99341fd0>"
      ]
     },
     "execution_count": 23,
     "metadata": {},
     "output_type": "execute_result"
    },
    {
     "data": {
      "image/png": "[encoded data removed]",
      "text/plain": [
       "<Figure size 432x288 with 1 Axes>"
      ]
     },
     "metadata": {
      "needs_background": "light"
     },
     "output_type": "display_data"
    }
   ],
   "source": [
    "'''load the best model and check the delta(hedging position)'''\n",
    "ddpg_agent.load_models()\n",
    "\n",
    "t_delta = []\n",
    "agent_delta = []\n",
    "for i in range(400, 600):\n",
    "    St = i/10\n",
    "    t_delta.append(delta(St, K, rf, sigma, T))\n",
    "    observation = [St,T]\n",
    "    agent_delta.append(ddpg_agent.final_action(observation))\n",
    "plt.plot(t_delta, label = 'true delta')\n",
    "plt.plot(agent_delta, label = 'agent delta')\n",
    "plt.legend(loc='upper left')   "
   ]
  },
  {
   "cell_type": "code",
   "execution_count": 29,
   "id": "4bc4bd6f",
   "metadata": {},
   "outputs": [
    {
     "data": {
      "text/plain": [
       "Text(0.5, 1.0, '50 episodes trial_reward vs episodes')"
      ]
     },
     "execution_count": 29,
     "metadata": {},
     "output_type": "execute_result"
    },
    {
     "data": {
      "image/png": "[encoded data removed]",
      "text/plain": [
       "<Figure size 432x288 with 1 Axes>"
      ]
     },
     "metadata": {
      "needs_background": "light"
     },
     "output_type": "display_data"
    }
   ],
   "source": [
    "plt.plot(trail_scores_ddpg)\n",
    "plt.title('50 episodes trial_reward vs episodes')\n"
   ]
  },
  {
   "cell_type": "code",
   "execution_count": 32,
   "id": "fce6d2d3",
   "metadata": {},
   "outputs": [
    {
     "data": {
      "text/plain": [
       "Text(0.5, 1.0, '50 episodes trial_reward vs episodes')"
      ]
     },
     "execution_count": 32,
     "metadata": {},
     "output_type": "execute_result"
    },
    {
     "data": {
      "image/png": "[encoded data removed]",
      "text/plain": [
       "<Figure size 432x288 with 1 Axes>"
      ]
     },
     "metadata": {
      "needs_background": "light"
     },
     "output_type": "display_data"
    }
   ],
   "source": [
    "plt.plot(trail_scores_ddpg, label = 'ddpg')\n",
    "plt.plot(trial_scores_ddqn, label = 'ddqn')\n",
    "plt.legend(loc = 'upper left')\n",
    "plt.title('50 episodes trial_reward vs episodes')\n"
   ]
  },
  {
   "cell_type": "code",
   "execution_count": null,
   "id": "c8adda37",
   "metadata": {},
   "outputs": [],
   "source": []
  }
 ],
 "metadata": {
  "kernelspec": {
   "display_name": "Python 3 (ipykernel)",
   "language": "python",
   "name": "python3"
  },
  "language_info": {
   "codemirror_mode": {
    "name": "ipython",
    "version": 3
   },
   "file_extension": ".py",
   "mimetype": "text/x-python",
   "name": "python",
   "nbconvert_exporter": "python",
   "pygments_lexer": "ipython3",
   "version": "3.8.8"
  }
 },
 "nbformat": 4,
 "nbformat_minor": 5
}
